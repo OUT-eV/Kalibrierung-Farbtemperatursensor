{
 "cells": [
  {
   "cell_type": "markdown",
   "metadata": {},
   "source": [
    "## Example for calculating the correlation matrix\n",
    "### Calculating Color Temperature and Illuminance using the TAOS TCS3414CS Digital Color Sensor"
   ]
  },
  {
   "cell_type": "code",
   "execution_count": 194,
   "metadata": {
    "collapsed": true
   },
   "outputs": [],
   "source": [
    "import numpy as np"
   ]
  },
  {
   "cell_type": "markdown",
   "metadata": {},
   "source": [
    "### Example from the TAOS Designer's Notebook [1]\n",
    "***\n",
    "__needed__:<br>\n",
    "- S measured AD-converter values [RGB]<br>\n",
    "Sensor Antwort eines RGB Sensors<br>\n",
    "([<br>\n",
    "  [measurement_1 R,G,B],<br>\n",
    "  [measurement_2 R,G,B],<br>\n",
    "  [measurement_3 R,G,B],<br>\n",
    "   ...<br>\n",
    "  [measurement_n R,G,B]<br>\n",
    "])<br>\n",
    "<p><p>__and__</p></p>\n",
    "- T CIE 1931 XYZ measurement values from a spectrometer<br>\n",
    "([<br>\n",
    "  [measurement_1 X,Y,Z],<br>\n",
    "  [measurement_2 X,Y,Z],<br>\n",
    "  [measurement_3 X,Y,Z],<br>\n",
    "   ...<br>\n",
    "  [measurement_n X,Y,Z]<br>\n",
    " ])<br>\n",
    "\n",
    "<p>transposing the input values is required! </p>\n",
    "\n",
    "__[[1] AMS Calculating Color Temperature](http://ams.com/chi/content/view/download/145158)__\n",
    "\n",
    "\n",
    "\n",
    "\n"
   ]
  },
  {
   "cell_type": "code",
   "execution_count": 195,
   "metadata": {
    "collapsed": true
   },
   "outputs": [],
   "source": [
    "T = np.matrix([[ 26.9,  22.9,   4.9],\n",
    "               [274.7, 262.2,  96.5],\n",
    "               [321.8, 360.5, 335.5]])\n",
    "\n",
    "S = np.matrix([[ 67.5,  43.0,  31.5],\n",
    "              [ 226.5, 256.5,  94.5],\n",
    "              [ 226.5, 415.0, 302.0]])\n",
    "T = T.T\n",
    "S = S.T"
   ]
  },
  {
   "cell_type": "code",
   "execution_count": 196,
   "metadata": {
    "collapsed": false
   },
   "outputs": [
    {
     "name": "stdout",
     "output_type": "stream",
     "text": [
      "[[-0.14180679  1.54826167 -0.95566012]\n",
      " [-0.32477767  1.57878168 -0.73222601]\n",
      " [-0.68088285  0.76973481  0.56384112]]\n"
     ]
    }
   ],
   "source": [
    "C = T*S.I #.T is for Transpose and .I is for Inverse matrix\n",
    "print(C)"
   ]
  },
  {
   "cell_type": "code",
   "execution_count": 197,
   "metadata": {
    "collapsed": false
   },
   "outputs": [
    {
     "data": {
      "text/plain": [
       "matrix([[ 26.9,  22.9,   4.9]])"
      ]
     },
     "execution_count": 197,
     "metadata": {},
     "output_type": "execute_result"
    }
   ],
   "source": [
    "#Test\n",
    "S.T[0]*C.T"
   ]
  },
  {
   "cell_type": "markdown",
   "metadata": {},
   "source": [
    "***\n",
    "# Real measurement data\n"
   ]
  },
  {
   "cell_type": "code",
   "execution_count": 198,
   "metadata": {
    "collapsed": true
   },
   "outputs": [],
   "source": [
    "spectrometer = np.matrix([\n",
    "                   [5.85914E-05 , 5.74988E-05 , 3.15928E-05],\n",
    "                   [3.14701E-05 , 3.77958E-05 , 0.000212881],\n",
    "                   [1.0139E-05  , 3.71417E-05 , 5.26983E-06],\n",
    "                   [8.22792E-05 , 6.02889E-05 , 1.55976E-06],\n",
    "                   [6.11897E-05 , 2.64752E-05 , 1.45131E-07],\n",
    "                   [5.93183E-05 , 5.05638E-05 , 1.21186E-05],\n",
    "                   [9.12914E-05 , 8.48045E-05 , 3.67635E-05],\n",
    "                   [5.88182E-05 , 5.90412E-05 , 3.90779E-05],\n",
    "                   [7.57179E-05 , 7.77328E-05 , 6.23846E-05],\n",
    "                   [5.9925E-05  , 3.10716E-05 , 1.41801E-06]\n",
    "                 ])\n",
    "\n",
    "RGB_Sensor = np.matrix([   \n",
    "                    [101,133, 48],\n",
    "                    [  0,130,284],\n",
    "                    [ 11, 88, 30],\n",
    "                    [171,135, 20],\n",
    "                    [186, 79, 17],\n",
    "                    [130,125, 33],\n",
    "                    [183,207, 69],\n",
    "                    [109,145, 62],\n",
    "                    [131,189, 90],\n",
    "                    [166, 88, 16]\n",
    "                ])\n",
    "\n",
    "spectrometer = spectrometer.T # is the same as spectrometer.transpose()\n",
    "RGB_Sensor = RGB_Sensor.T"
   ]
  },
  {
   "cell_type": "code",
   "execution_count": 199,
   "metadata": {
    "collapsed": false
   },
   "outputs": [
    {
     "name": "stdout",
     "output_type": "stream",
     "text": [
      "[[  2.77611029e-07   1.90481471e-07   2.26163250e-08]\n",
      " [ -5.01731963e-08   4.89135940e-07  -9.18154796e-08]\n",
      " [ -2.73882011e-08  -5.88307647e-08   7.81347358e-07]]\n"
     ]
    }
   ],
   "source": [
    "#after TAOS\n",
    "C_M = spectrometer*RGB_Sensor.I\n",
    "\n",
    "print(C_M)"
   ]
  },
  {
   "cell_type": "code",
   "execution_count": 200,
   "metadata": {
    "collapsed": false
   },
   "outputs": [
    {
     "data": {
      "text/plain": [
       "matrix([[  3.11856275e-05,   3.75120760e-05,   2.14254650e-04]])"
      ]
     },
     "execution_count": 200,
     "metadata": {},
     "output_type": "execute_result"
    }
   ],
   "source": [
    "#Test\n",
    "RGB_Sensor.T[1]*C_M.T"
   ]
  },
  {
   "cell_type": "markdown",
   "metadata": {},
   "source": [
    "# Calculating Corelated Color Temperature"
   ]
  },
  {
   "cell_type": "code",
   "execution_count": 201,
   "metadata": {
    "collapsed": false
   },
   "outputs": [],
   "source": [
    "#function definition\n",
    "def calc_xy(XYZ = np.matrix([9.12914E-05 , 8.48045E-05 , 3.67635E-05])):\n",
    "    X = XYZ[0,0]\n",
    "    Y = XYZ[0,1]\n",
    "    Z = XYZ[0,2]\n",
    "    \n",
    "    x = X/(X+Y+Z)\n",
    "    y = Y/(X+Y+Z)\n",
    "    \n",
    "    xy = [x,y]\n",
    "    return xy\n",
    "    pass\n",
    "\n",
    "def calc_CCT(CIE_x = 0.333, CIE_y = 0.333):\n",
    "    n = (CIE_x - 0.3320)/(0.1858 - CIE_y)\n",
    "    CCT = 449*n**3 + 3525*n**2 + 6823.3*n + 5520.33\n",
    "    return CCT"
   ]
  },
  {
   "cell_type": "code",
   "execution_count": 202,
   "metadata": {
    "collapsed": false
   },
   "outputs": [
    {
     "name": "stdout",
     "output_type": "stream",
     "text": [
      "CCT = 3123.2 K\n"
     ]
    }
   ],
   "source": [
    "xy = calc_xy(RGB_Sensor.T[6]*C_M.T)\n",
    "CCT = calc_CCT(xy[0],xy[1])\n",
    "print('CCT = %.1f K'%CCT)"
   ]
  },
  {
   "cell_type": "code",
   "execution_count": 193,
   "metadata": {
    "collapsed": false
   },
   "outputs": [
    {
     "name": "stdout",
     "output_type": "stream",
     "text": [
      "CCT = 8295.5 K\n"
     ]
    }
   ],
   "source": [
    "xy = calc_xy(S.T[2]*C.T)\n",
    "CCT = calc_CCT(xy[0],xy[1])\n",
    "print('CCT = %.1f K'%CCT)"
   ]
  }
 ],
 "metadata": {
  "kernelspec": {
   "display_name": "Python 3",
   "language": "python",
   "name": "python3"
  },
  "language_info": {
   "codemirror_mode": {
    "name": "ipython",
    "version": 3
   },
   "file_extension": ".py",
   "mimetype": "text/x-python",
   "name": "python",
   "nbconvert_exporter": "python",
   "pygments_lexer": "ipython3",
   "version": "3.6.0"
  }
 },
 "nbformat": 4,
 "nbformat_minor": 2
}
