{
 "cells": [
  {
   "cell_type": "markdown",
   "metadata": {},
   "source": [
    "## Example for calculating the correlation matrix\n",
    "### Calculating Color Temprature and Illuminance using the TAOS TCS3414CS Digital Color Sensor\n"
   ]
  },
  {
   "cell_type": "code",
   "execution_count": 10,
   "metadata": {
    "collapsed": true
   },
   "outputs": [],
   "source": [
    "import numpy as np"
   ]
  },
  {
   "cell_type": "code",
   "execution_count": 21,
   "metadata": {
    "collapsed": false
   },
   "outputs": [],
   "source": [
    "C = np.matrix([[26.9, 274.7, 321.8],\n",
    "              [ 22.9, 262.2, 360.5],\n",
    "              [  4.9,  96.5, 335.5]])\n",
    "\n",
    "S = np.matrix([[67.5, 226.5, 226.5],\n",
    "              [ 43.0, 256.5, 415.0],\n",
    "              [ 31.5,  94.5, 302.0]])"
   ]
  },
  {
   "cell_type": "code",
   "execution_count": 22,
   "metadata": {
    "collapsed": false
   },
   "outputs": [
    {
     "data": {
      "text/plain": [
       "matrix([[-0.14180679,  1.54826167, -0.95566012],\n",
       "        [-0.32477767,  1.57878168, -0.73222601],\n",
       "        [-0.68088285,  0.76973481,  0.56384112]])"
      ]
     },
     "execution_count": 22,
     "metadata": {},
     "output_type": "execute_result"
    }
   ],
   "source": [
    "C*np.linalg.inv(S)"
   ]
  },
  {
   "cell_type": "code",
   "execution_count": null,
   "metadata": {
    "collapsed": true
   },
   "outputs": [],
   "source": []
  }
 ],
 "metadata": {
  "kernelspec": {
   "display_name": "Python 3",
   "language": "python",
   "name": "python3"
  },
  "language_info": {
   "codemirror_mode": {
    "name": "ipython",
    "version": 3
   },
   "file_extension": ".py",
   "mimetype": "text/x-python",
   "name": "python",
   "nbconvert_exporter": "python",
   "pygments_lexer": "ipython3",
   "version": "3.6.0"
  }
 },
 "nbformat": 4,
 "nbformat_minor": 2
}
